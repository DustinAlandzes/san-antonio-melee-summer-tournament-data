{
 "cells": [
  {
   "cell_type": "markdown",
   "metadata": {},
   "source": [
    "# San Antonio Melee tournament data June 4th - August-27\n",
    "\n",
    "## 1. Import libraries"
   ]
  },
  {
   "cell_type": "code",
   "execution_count": 20,
   "metadata": {
    "collapsed": true
   },
   "outputs": [],
   "source": [
    "import pandas as pd\n",
    "import xml.etree.cElementTree as et\n",
    "import matplotlib.pyplot as plt\n",
    "%matplotlib inline"
   ]
  },
  {
   "cell_type": "markdown",
   "metadata": {},
   "source": [
    "## 2. Parse SkillKeeper \"Summer PR Draft 1.bcn\" (bacon?) file\n",
    "It's actually just an xml file"
   ]
  },
  {
   "cell_type": "code",
   "execution_count": 68,
   "metadata": {
    "collapsed": false
   },
   "outputs": [
    {
     "name": "stdout",
     "output_type": "stream",
     "text": [
      "﻿<?xml version=\"1.0\" encoding=\"utf-8\"?>\n",
      "\n",
      "<SK92>\n",
      "\n",
      "  <Settings Multiplier=\"200\" MinMatches=\"4\" Decay=\"3\" DecayValue=\"2\" />\n",
      "\n",
      "  <Players>\n",
      "\n",
      "    <Player Name=\"Arc\" Team=\"\" Invisible=\"false\" Characters=\"\" Alts=\"FX | Arc\" />\n",
      "\n"
     ]
    }
   ],
   "source": [
    "# open the matches file\n",
    "matches_file = \"Summer PR Draft 1.bcn\"\n",
    "with open(matches_file, 'r') as f:\n",
    "    file = f.readlines()\n",
    "\n",
    "# print the first 5 lines\n",
    "for x in range(5):\n",
    "    print(file[x])"
   ]
  },
  {
   "cell_type": "markdown",
   "metadata": {},
   "source": [
    "### Parse Summer PR Draft 1.bcn with the built in xml library's `xml.etree.ElementTree.parse()`\n",
    "* https://docs.python.org/3/library/xml.etree.elementtree.html#xml.etree.ElementTree.parse"
   ]
  },
  {
   "cell_type": "code",
   "execution_count": 70,
   "metadata": {
    "collapsed": false
   },
   "outputs": [],
   "source": [
    "# parse bcn file (just xml)\n",
    "parsedXML = et.parse(matches_file)"
   ]
  },
  {
   "cell_type": "markdown",
   "metadata": {},
   "source": [
    "### SkillKeeper settings\n",
    "* https://docs.python.org/3/library/xml.etree.elementtree.html#xml.etree.ElementTree.ElementTree.getroot\n",
    "* https://docs.python.org/3/library/xml.etree.elementtree.html#xml.etree.ElementTree.ElementTree.find"
   ]
  },
  {
   "cell_type": "code",
   "execution_count": 67,
   "metadata": {
    "collapsed": false
   },
   "outputs": [
    {
     "name": "stdout",
     "output_type": "stream",
     "text": [
      "Settings: \n",
      " Multiplier: 200 \n",
      " Min Matches: 4 \n",
      " Decay: 3 \n",
      " Decay Value: 2 \n",
      "\n"
     ]
    }
   ],
   "source": [
    "# settings\n",
    "multipler = parsedXML.getroot().find(\"Settings\").get('Multiplier')\n",
    "minmatches = parsedXML.getroot().find(\"Settings\").get('MinMatches')\n",
    "decay = parsedXML.getroot().find(\"Settings\").get('Decay')\n",
    "decayValue = parsedXML.getroot().find(\"Settings\").get('DecayValue')\n",
    "print(\"Settings: \\n Multiplier: {} \\n Min Matches: {} \\n Decay: {} \\n Decay Value: {} \\n\". format(multipler, minmatches, decay, decayValue))"
   ]
  },
  {
   "cell_type": "markdown",
   "metadata": {},
   "source": [
    "### Turn matches into list, and turn that list into a Pandas DataFrame\n",
    "* https://pandas.pydata.org/pandas-docs/stable/generated/pandas.DataFrame.html"
   ]
  },
  {
   "cell_type": "code",
   "execution_count": 71,
   "metadata": {
    "collapsed": false
   },
   "outputs": [
    {
     "data": {
      "text/html": [
       "<div>\n",
       "<style scoped>\n",
       "    .dataframe tbody tr th:only-of-type {\n",
       "        vertical-align: middle;\n",
       "    }\n",
       "\n",
       "    .dataframe tbody tr th {\n",
       "        vertical-align: top;\n",
       "    }\n",
       "\n",
       "    .dataframe thead th {\n",
       "        text-align: right;\n",
       "    }\n",
       "</style>\n",
       "<table border=\"1\" class=\"dataframe\">\n",
       "  <thead>\n",
       "    <tr style=\"text-align: right;\">\n",
       "      <th></th>\n",
       "      <th>description</th>\n",
       "      <th>id</th>\n",
       "      <th>order</th>\n",
       "      <th>player1</th>\n",
       "      <th>player2</th>\n",
       "      <th>timestamp</th>\n",
       "      <th>tournament</th>\n",
       "      <th>winner</th>\n",
       "    </tr>\n",
       "  </thead>\n",
       "  <tbody>\n",
       "    <tr>\n",
       "      <th>0</th>\n",
       "      <td>sanantoniomelee - Muramasa Monday Redemption 66</td>\n",
       "      <td>ab707ee35e224f5187754a431cf9a565</td>\n",
       "      <td>None</td>\n",
       "      <td>Mighty</td>\n",
       "      <td>Riff</td>\n",
       "      <td>6/4/2018 9:46:48 PM</td>\n",
       "      <td>Muramasa Monday Redemption 66</td>\n",
       "      <td>1</td>\n",
       "    </tr>\n",
       "    <tr>\n",
       "      <th>1</th>\n",
       "      <td>sanantoniomelee - Muramasa Monday Redemption 66</td>\n",
       "      <td>77f18550f24a46f6ae68a3cf95789760</td>\n",
       "      <td>None</td>\n",
       "      <td>Blitz</td>\n",
       "      <td>PopStar</td>\n",
       "      <td>6/4/2018 9:46:48 PM</td>\n",
       "      <td>Muramasa Monday Redemption 66</td>\n",
       "      <td>2</td>\n",
       "    </tr>\n",
       "    <tr>\n",
       "      <th>2</th>\n",
       "      <td>sanantoniomelee - Muramasa Monday Redemption 66</td>\n",
       "      <td>79c81769f81f4c4ea9c6c792790242f6</td>\n",
       "      <td>None</td>\n",
       "      <td>Clipman</td>\n",
       "      <td>Velocity</td>\n",
       "      <td>6/4/2018 9:46:48 PM</td>\n",
       "      <td>Muramasa Monday Redemption 66</td>\n",
       "      <td>1</td>\n",
       "    </tr>\n",
       "    <tr>\n",
       "      <th>3</th>\n",
       "      <td>sanantoniomelee - Muramasa Monday Redemption 66</td>\n",
       "      <td>fa024be387254276aacb5201a1f9b179</td>\n",
       "      <td>None</td>\n",
       "      <td>HS</td>\n",
       "      <td>Deca</td>\n",
       "      <td>6/4/2018 9:46:48 PM</td>\n",
       "      <td>Muramasa Monday Redemption 66</td>\n",
       "      <td>1</td>\n",
       "    </tr>\n",
       "    <tr>\n",
       "      <th>4</th>\n",
       "      <td>sanantoniomelee - Muramasa Monday Redemption 66</td>\n",
       "      <td>9c58853a1af647c6b18791bb81fba8e7</td>\n",
       "      <td>None</td>\n",
       "      <td>Bean</td>\n",
       "      <td>Your Dad's Yoshi</td>\n",
       "      <td>6/4/2018 9:46:48 PM</td>\n",
       "      <td>Muramasa Monday Redemption 66</td>\n",
       "      <td>1</td>\n",
       "    </tr>\n",
       "  </tbody>\n",
       "</table>\n",
       "</div>"
      ],
      "text/plain": [
       "                                       description  \\\n",
       "0  sanantoniomelee - Muramasa Monday Redemption 66   \n",
       "1  sanantoniomelee - Muramasa Monday Redemption 66   \n",
       "2  sanantoniomelee - Muramasa Monday Redemption 66   \n",
       "3  sanantoniomelee - Muramasa Monday Redemption 66   \n",
       "4  sanantoniomelee - Muramasa Monday Redemption 66   \n",
       "\n",
       "                                 id order  player1           player2  \\\n",
       "0  ab707ee35e224f5187754a431cf9a565  None   Mighty              Riff   \n",
       "1  77f18550f24a46f6ae68a3cf95789760  None    Blitz           PopStar   \n",
       "2  79c81769f81f4c4ea9c6c792790242f6  None  Clipman          Velocity   \n",
       "3  fa024be387254276aacb5201a1f9b179  None       HS              Deca   \n",
       "4  9c58853a1af647c6b18791bb81fba8e7  None     Bean  Your Dad's Yoshi   \n",
       "\n",
       "             timestamp                     tournament winner  \n",
       "0  6/4/2018 9:46:48 PM  Muramasa Monday Redemption 66      1  \n",
       "1  6/4/2018 9:46:48 PM  Muramasa Monday Redemption 66      2  \n",
       "2  6/4/2018 9:46:48 PM  Muramasa Monday Redemption 66      1  \n",
       "3  6/4/2018 9:46:48 PM  Muramasa Monday Redemption 66      1  \n",
       "4  6/4/2018 9:46:48 PM  Muramasa Monday Redemption 66      1  "
      ]
     },
     "execution_count": 71,
     "metadata": {},
     "output_type": "execute_result"
    }
   ],
   "source": [
    "# parse matches into list of dicts\n",
    "matches = []\n",
    "for match in list(parsedXML.getroot().find(\"Matches\")):\n",
    "    matches.append({\n",
    "        \"id\": match.get(\"ID\"),\n",
    "        \"timestamp\": match.get(\"Timestamp\"),\n",
    "        \"order\": match.get(\"order\"),\n",
    "        \"tournament\": match.get(\"Tournament\"),\n",
    "        \"description\": match.get(\"Description\"),\n",
    "        \"player1\": match.get(\"Player1\"),\n",
    "        \"player2\": match.get(\"Player2\"),\n",
    "        \"winner\": match.get(\"Winner\")\n",
    "    })\n",
    "    \n",
    "# pass list of dicts to pandas\n",
    "matches_df = pd.DataFrame(matches)\n",
    "matches_df.head()"
   ]
  },
  {
   "cell_type": "markdown",
   "metadata": {},
   "source": [
    "### Turn players into list, turn that list into a Pandas DataFrame"
   ]
  },
  {
   "cell_type": "code",
   "execution_count": 113,
   "metadata": {
    "collapsed": false
   },
   "outputs": [
    {
     "name": "stderr",
     "output_type": "stream",
     "text": [
      "/Users/f00/anaconda/envs/machine_learning_cookbook/lib/python3.6/site-packages/ipykernel/__main__.py:20: FutureWarning: Sorting because non-concatenation axis is not aligned. A future version\n",
      "of pandas will change to not sort by default.\n",
      "\n",
      "To accept the future behavior, pass 'sort=False'.\n",
      "\n",
      "To retain the current behavior and silence the warning, pass 'sort=True'.\n",
      "\n",
      "/Users/f00/anaconda/envs/machine_learning_cookbook/lib/python3.6/site-packages/ipykernel/__main__.py:21: FutureWarning: Sorting because non-concatenation axis is not aligned. A future version\n",
      "of pandas will change to not sort by default.\n",
      "\n",
      "To accept the future behavior, pass 'sort=False'.\n",
      "\n",
      "To retain the current behavior and silence the warning, pass 'sort=True'.\n",
      "\n",
      "/Users/f00/anaconda/envs/machine_learning_cookbook/lib/python3.6/site-packages/ipykernel/__main__.py:22: FutureWarning: Sorting because non-concatenation axis is not aligned. A future version\n",
      "of pandas will change to not sort by default.\n",
      "\n",
      "To accept the future behavior, pass 'sort=False'.\n",
      "\n",
      "To retain the current behavior and silence the warning, pass 'sort=True'.\n",
      "\n",
      "/Users/f00/anaconda/envs/machine_learning_cookbook/lib/python3.6/site-packages/ipykernel/__main__.py:23: FutureWarning: Sorting because non-concatenation axis is not aligned. A future version\n",
      "of pandas will change to not sort by default.\n",
      "\n",
      "To accept the future behavior, pass 'sort=False'.\n",
      "\n",
      "To retain the current behavior and silence the warning, pass 'sort=True'.\n",
      "\n"
     ]
    },
    {
     "data": {
      "text/html": [
       "<div>\n",
       "<style scoped>\n",
       "    .dataframe tbody tr th:only-of-type {\n",
       "        vertical-align: middle;\n",
       "    }\n",
       "\n",
       "    .dataframe tbody tr th {\n",
       "        vertical-align: top;\n",
       "    }\n",
       "\n",
       "    .dataframe thead th {\n",
       "        text-align: right;\n",
       "    }\n",
       "</style>\n",
       "<table border=\"1\" class=\"dataframe\">\n",
       "  <thead>\n",
       "    <tr style=\"text-align: right;\">\n",
       "      <th></th>\n",
       "      <th>index</th>\n",
       "      <th>alts</th>\n",
       "      <th>characters</th>\n",
       "      <th>invisible</th>\n",
       "      <th>team</th>\n",
       "      <th>p1wins</th>\n",
       "      <th>p1losses</th>\n",
       "      <th>p2wins</th>\n",
       "      <th>p2losses</th>\n",
       "      <th>player1</th>\n",
       "      <th>player2</th>\n",
       "      <th>total_wins</th>\n",
       "      <th>total_losses</th>\n",
       "      <th>total_matches</th>\n",
       "      <th>win_ratio</th>\n",
       "    </tr>\n",
       "  </thead>\n",
       "  <tbody>\n",
       "    <tr>\n",
       "      <th>0</th>\n",
       "      <td>4SK</td>\n",
       "      <td></td>\n",
       "      <td></td>\n",
       "      <td>false</td>\n",
       "      <td></td>\n",
       "      <td>6.0</td>\n",
       "      <td>7.0</td>\n",
       "      <td>6.0</td>\n",
       "      <td>1.0</td>\n",
       "      <td>7.0</td>\n",
       "      <td>13</td>\n",
       "      <td>12.0</td>\n",
       "      <td>8.0</td>\n",
       "      <td>20.0</td>\n",
       "      <td>1.500000</td>\n",
       "    </tr>\n",
       "    <tr>\n",
       "      <th>1</th>\n",
       "      <td>5ive</td>\n",
       "      <td>5</td>\n",
       "      <td></td>\n",
       "      <td>false</td>\n",
       "      <td></td>\n",
       "      <td>12.0</td>\n",
       "      <td>6.0</td>\n",
       "      <td>4.0</td>\n",
       "      <td>0.0</td>\n",
       "      <td>12.0</td>\n",
       "      <td>10</td>\n",
       "      <td>16.0</td>\n",
       "      <td>6.0</td>\n",
       "      <td>22.0</td>\n",
       "      <td>2.666667</td>\n",
       "    </tr>\n",
       "    <tr>\n",
       "      <th>2</th>\n",
       "      <td>Abby</td>\n",
       "      <td></td>\n",
       "      <td></td>\n",
       "      <td>false</td>\n",
       "      <td></td>\n",
       "      <td>2.0</td>\n",
       "      <td>6.0</td>\n",
       "      <td>4.0</td>\n",
       "      <td>2.0</td>\n",
       "      <td>4.0</td>\n",
       "      <td>10</td>\n",
       "      <td>6.0</td>\n",
       "      <td>8.0</td>\n",
       "      <td>14.0</td>\n",
       "      <td>0.750000</td>\n",
       "    </tr>\n",
       "    <tr>\n",
       "      <th>3</th>\n",
       "      <td>Africa</td>\n",
       "      <td></td>\n",
       "      <td></td>\n",
       "      <td>false</td>\n",
       "      <td></td>\n",
       "      <td>0.0</td>\n",
       "      <td>4.0</td>\n",
       "      <td>0.0</td>\n",
       "      <td>0.0</td>\n",
       "      <td>0.0</td>\n",
       "      <td>4</td>\n",
       "      <td>0.0</td>\n",
       "      <td>4.0</td>\n",
       "      <td>4.0</td>\n",
       "      <td>0.000000</td>\n",
       "    </tr>\n",
       "    <tr>\n",
       "      <th>4</th>\n",
       "      <td>Afukasi</td>\n",
       "      <td></td>\n",
       "      <td></td>\n",
       "      <td>false</td>\n",
       "      <td></td>\n",
       "      <td>0.0</td>\n",
       "      <td>2.0</td>\n",
       "      <td>0.0</td>\n",
       "      <td>0.0</td>\n",
       "      <td>0.0</td>\n",
       "      <td>2</td>\n",
       "      <td>0.0</td>\n",
       "      <td>2.0</td>\n",
       "      <td>2.0</td>\n",
       "      <td>0.000000</td>\n",
       "    </tr>\n",
       "  </tbody>\n",
       "</table>\n",
       "</div>"
      ],
      "text/plain": [
       "     index alts characters invisible team  p1wins  p1losses  p2wins  p2losses  \\\n",
       "0      4SK                     false          6.0       7.0     6.0       1.0   \n",
       "1     5ive    5                false         12.0       6.0     4.0       0.0   \n",
       "2     Abby                     false          2.0       6.0     4.0       2.0   \n",
       "3   Africa                     false          0.0       4.0     0.0       0.0   \n",
       "4  Afukasi                     false          0.0       2.0     0.0       0.0   \n",
       "\n",
       "   player1  player2  total_wins  total_losses  total_matches  win_ratio  \n",
       "0      7.0       13        12.0           8.0           20.0   1.500000  \n",
       "1     12.0       10        16.0           6.0           22.0   2.666667  \n",
       "2      4.0       10         6.0           8.0           14.0   0.750000  \n",
       "3      0.0        4         0.0           4.0            4.0   0.000000  \n",
       "4      0.0        2         0.0           2.0            2.0   0.000000  "
      ]
     },
     "execution_count": 113,
     "metadata": {},
     "output_type": "execute_result"
    }
   ],
   "source": [
    "# parse players into a list of dicts\n",
    "players = []\n",
    "for player in parsedXML.getroot().find(\"Players\").getchildren():\n",
    "    players.append({\n",
    "        \"name\": player.get(\"Name\"),\n",
    "        \"team\": player.get(\"Team\"),\n",
    "        \"invisible\": player.get(\"Invisible\"),\n",
    "        \"characters\": player.get(\"Characters\"),\n",
    "        \"alts\": player.get(\"Alts\")\n",
    "    })\n",
    "# pass list of dicts into pandas\n",
    "players_df = pd.DataFrame(players)\n",
    "players_df.head()\n",
    "players_df = players_df.set_index(\"name\")\n",
    "# turn alts in matches_df into primary name\n",
    "\n",
    "player1_wins = matches_df.loc[matches_df['winner'] == \"1\"]\n",
    "player2_wins = matches_df.loc[matches_df['winner'] == \"2\"]\n",
    "\n",
    "players_df = pd.concat((players_df, player1_wins['player1'].value_counts().rename(\"p1wins\")), axis=1)\n",
    "players_df = pd.concat((players_df, player1_wins['player2'].value_counts().rename(\"p1losses\")), axis=1)\n",
    "players_df = pd.concat((players_df, player2_wins['player2'].value_counts().rename(\"p2wins\")), axis=1)\n",
    "players_df = pd.concat((players_df, player2_wins['player1'].value_counts().rename(\"p2losses\")), axis=1)\n",
    "\n",
    "# count matches\n",
    "player2_counts = matches_df['player2'].value_counts()\n",
    "player1_counts = matches_df['player1'].value_counts()\n",
    "\n",
    "players_df = players_df.join(player1_counts)\n",
    "players_df = players_df.join(player2_counts)\n",
    "\n",
    "players_df = players_df.fillna(0)\n",
    "\n",
    "\n",
    "players_df['total_wins'] = players_df['p1wins'] + players_df['p2wins']\n",
    "players_df['total_losses'] = players_df['p1losses'] + players_df['p2losses']\n",
    "players_df['total_matches'] = players_df['player1'] + players_df['player2']\n",
    "players_df['win_ratio'] = players_df['total_wins'] / players_df['total_losses']\n",
    "players_df = players_df.reset_index()\n",
    "players_df.head()"
   ]
  },
  {
   "cell_type": "markdown",
   "metadata": {},
   "source": [
    "## 3. Some numbers and graphs"
   ]
  },
  {
   "cell_type": "markdown",
   "metadata": {},
   "source": [
    "#### number of players, number of matches, and number of tournaments"
   ]
  },
  {
   "cell_type": "code",
   "execution_count": 97,
   "metadata": {
    "collapsed": false
   },
   "outputs": [
    {
     "name": "stdout",
     "output_type": "stream",
     "text": [
      "Number of Players: 134\n",
      "Number of Matches: 1818\n",
      "Number of Tournaments: 52\n"
     ]
    }
   ],
   "source": [
    "# number of players, number of matches, number of tournaments\n",
    "num_players = len(players_df)\n",
    "num_matches = len(matches_df)\n",
    "num_tournaments = len(matches_df['tournament'].unique())\n",
    "print(\"Number of Players: {}\".format(num_players))\n",
    "print(\"Number of Matches: {}\".format(num_matches))\n",
    "print(\"Number of Tournaments: {}\".format(num_tournaments))"
   ]
  },
  {
   "cell_type": "markdown",
   "metadata": {},
   "source": [
    "#### unique player matchups"
   ]
  },
  {
   "cell_type": "code",
   "execution_count": 98,
   "metadata": {
    "collapsed": false
   },
   "outputs": [
    {
     "data": {
      "text/plain": [
       "1221"
      ]
     },
     "execution_count": 98,
     "metadata": {},
     "output_type": "execute_result"
    }
   ],
   "source": [
    "# number of unique player1 player 2 matches\n",
    "len(matches_df[['player1', 'player2']].drop_duplicates())"
   ]
  },
  {
   "cell_type": "markdown",
   "metadata": {},
   "source": [
    "#### bar graph of top 10 players by total matches"
   ]
  },
  {
   "cell_type": "code",
   "execution_count": 99,
   "metadata": {
    "collapsed": false
   },
   "outputs": [
    {
     "data": {
      "text/plain": [
       "Text(0,0.5,'Player')"
      ]
     },
     "execution_count": 99,
     "metadata": {},
     "output_type": "execute_result"
    },
    {
     "data": {
      "image/png": "[encoded data removed]",
      "text/plain": [
       "<Figure size 432x288 with 1 Axes>"
      ]
     },
     "metadata": {},
     "output_type": "display_data"
    }
   ],
   "source": [
    "players_df = players_df.sort_values('total_matches', ascending=False)\n",
    "total_matches_by_player_plot = players_df[:10].reset_index().plot(x='index', y='total_matches', kind=\"barh\")\n",
    "total_matches_by_player_plot.set_xlabel('Total matches')\n",
    "total_matches_by_player_plot.set_ylabel('Player')"
   ]
  },
  {
   "cell_type": "markdown",
   "metadata": {},
   "source": [
    "#### bar graph of top 10 players by total wins"
   ]
  },
  {
   "cell_type": "code",
   "execution_count": 100,
   "metadata": {
    "collapsed": false
   },
   "outputs": [
    {
     "data": {
      "text/plain": [
       "Text(0,0.5,'Player')"
      ]
     },
     "execution_count": 100,
     "metadata": {},
     "output_type": "execute_result"
    },
    {
     "data": {
      "image/png": "[encoded data removed]",
      "text/plain": [
       "<Figure size 432x288 with 1 Axes>"
      ]
     },
     "metadata": {},
     "output_type": "display_data"
    }
   ],
   "source": [
    "players_df = players_df.sort_values('total_wins', ascending=False)\n",
    "total_wins_by_player_plot = players_df[:10].plot(x='index', y='total_wins', kind=\"barh\")\n",
    "total_wins_by_player_plot.set_xlabel('Total wins')\n",
    "total_wins_by_player_plot.set_ylabel('Player')"
   ]
  },
  {
   "cell_type": "markdown",
   "metadata": {},
   "source": [
    "#### bar graph of top 10 players by total losses (grats to cagliostro)"
   ]
  },
  {
   "cell_type": "code",
   "execution_count": 101,
   "metadata": {
    "collapsed": false
   },
   "outputs": [
    {
     "data": {
      "text/plain": [
       "Text(0,0.5,'Player')"
      ]
     },
     "execution_count": 101,
     "metadata": {},
     "output_type": "execute_result"
    },
    {
     "data": {
      "image/png": "[encoded data removed]",
      "text/plain": [
       "<Figure size 432x288 with 1 Axes>"
      ]
     },
     "metadata": {},
     "output_type": "display_data"
    }
   ],
   "source": [
    "players_df = players_df.sort_values('total_losses', ascending=False)\n",
    "total_losses_by_player_plot = players_df[:10].plot(x='index', y='total_losses', kind=\"barh\")\n",
    "total_losses_by_player_plot.set_xlabel('Total losses')\n",
    "total_losses_by_player_plot.set_ylabel('Player')"
   ]
  },
  {
   "cell_type": "markdown",
   "metadata": {},
   "source": [
    "#### bar graph of top 10 players by win/loss ratio"
   ]
  },
  {
   "cell_type": "code",
   "execution_count": 102,
   "metadata": {
    "collapsed": false
   },
   "outputs": [
    {
     "data": {
      "text/plain": [
       "Text(0,0.5,'Player')"
      ]
     },
     "execution_count": 102,
     "metadata": {},
     "output_type": "execute_result"
    },
    {
     "data": {
      "image/png": "[encoded data removed]",
      "text/plain": [
       "<Figure size 432x288 with 1 Axes>"
      ]
     },
     "metadata": {},
     "output_type": "display_data"
    }
   ],
   "source": [
    "players_df = players_df.sort_values('win_ratio', ascending=False)\n",
    "win_ratio_by_player_plot = players_df[:10].plot(x='index', y='win_ratio', kind=\"barh\")\n",
    "win_ratio_by_player_plot.set_xlabel('Win Ratio')\n",
    "win_ratio_by_player_plot.set_ylabel('Player')"
   ]
  },
  {
   "cell_type": "markdown",
   "metadata": {
    "collapsed": true
   },
   "source": [
    "## 4. Ranking using TrueSkill\n",
    "#### SkillKeeper uses this java library: https://github.com/moserware/Skills)\n",
    "there is a library that tries to port Moserware's Skills library from Java, just not enough documentation\n",
    "* https://github.com/McLeopold/PythonSkills/\n",
    "\n",
    "\n",
    "this library is a simple implemention of trueskill, nice but same problem\n",
    "* https://github.com/dougz/trueskill\n",
    "\n",
    "\n",
    "and this is the one i actually used\n",
    "* https://github.com/sublee/trueskill\n",
    "* http://trueskill.org/\n",
    "* https://github.com/sublee/trueskill/blob/master/docs/index.rst\n",
    "\n",
    "*shout out to Heungsub Lee for making this easy for me*"
   ]
  },
  {
   "cell_type": "code",
   "execution_count": 103,
   "metadata": {
    "collapsed": false
   },
   "outputs": [],
   "source": [
    "from trueskill import Rating, rate_1vs1\n",
    "\n",
    "# convert timestamps from strings to datetime64\n",
    "matches_df['timestamp'] = pd.to_datetime(matches_df['timestamp'])\n",
    "\n",
    "# lets sort by timestamp so we can go through the matches in chronological order\n",
    "matches_df.sort_values(\"timestamp\", ascending=True)\n",
    "\n",
    "# create Rating for every player\n",
    "ratings = dict()\n",
    "for index, player in players_df.iterrows():\n",
    "    ratings[player['index']] = Rating()\n",
    "\n",
    "# go through every match and update winner's and loser's rating\n",
    "for index, match in matches_df.iterrows():\n",
    "    player1 = match['player1']\n",
    "    player2 = match['player2']\n",
    "    \n",
    "    if match['winner'] == \"1\":\n",
    "        ratings[player1], ratings[player2] = rate_1vs1(ratings[player1], ratings[player2])\n",
    "    elif match['winner'] == \"2\":\n",
    "        ratings[player1], ratings[player2] = rate_1vs1(ratings[player1], ratings[player2])\n",
    "    elif match['winner'] == \"0\":\n",
    "        ratings[player1], ratings[player2] = rate_1vs1(ratings[player1], ratings[player2], drawn=True)"
   ]
  },
  {
   "cell_type": "code",
   "execution_count": 104,
   "metadata": {
    "collapsed": false
   },
   "outputs": [],
   "source": [
    "# players sort by mu\n",
    "mu_sorted_ratings = sorted(ratings.items(), key=lambda x: x[1].mu, reverse=True)\n",
    "# players sort by sigma\n",
    "sigma_sorted_ratings = sorted(ratings.items(), key=lambda x: x[1].sigma, reverse=True)"
   ]
  },
  {
   "cell_type": "markdown",
   "metadata": {},
   "source": [
    "## list comphrensions to make nice lists for matplotlib\n",
    "* https://docs.python.org/3/tutorial/datastructures.html#list-comprehensions\n",
    "* https://matplotlib.org/api/_as_gen/matplotlib.pyplot.bar.html\n"
   ]
  },
  {
   "cell_type": "markdown",
   "metadata": {},
   "source": [
    "### top 20"
   ]
  },
  {
   "cell_type": "code",
   "execution_count": 111,
   "metadata": {
    "collapsed": false
   },
   "outputs": [
    {
     "data": {
      "text/plain": [
       "<BarContainer object of 20 artists>"
      ]
     },
     "execution_count": 111,
     "metadata": {},
     "output_type": "execute_result"
    },
    {
     "data": {
      "image/png": "[encoded data removed]",
      "text/plain": [
       "<Figure size 432x288 with 1 Axes>"
      ]
     },
     "metadata": {},
     "output_type": "display_data"
    }
   ],
   "source": [
    "players = [player[0] for player in mu_sorted_ratings[:20]]\n",
    "ratings = [player[1].mu for player in mu_sorted_ratings[:20]]\n",
    "plt.barh(players, ratings)"
   ]
  },
  {
   "cell_type": "markdown",
   "metadata": {},
   "source": [
    "### bottom 20"
   ]
  },
  {
   "cell_type": "code",
   "execution_count": 112,
   "metadata": {
    "collapsed": false
   },
   "outputs": [
    {
     "data": {
      "text/plain": [
       "<BarContainer object of 20 artists>"
      ]
     },
     "execution_count": 112,
     "metadata": {},
     "output_type": "execute_result"
    },
    {
     "data": {
      "image/png": "[encoded data removed]",
      "text/plain": [
       "<Figure size 432x288 with 1 Axes>"
      ]
     },
     "metadata": {},
     "output_type": "display_data"
    }
   ],
   "source": [
    "players = [player[0] for player in mu_sorted_ratings[-20:]]\n",
    "ratings = [player[1].mu for player in mu_sorted_ratings[-20:]]\n",
    "plt.barh(players, ratings)"
   ]
  },
  {
   "cell_type": "code",
   "execution_count": null,
   "metadata": {
    "collapsed": true
   },
   "outputs": [],
   "source": []
  }
 ],
 "metadata": {
  "kernelspec": {
   "display_name": "Python [conda env:machine_learning_cookbook]",
   "language": "python",
   "name": "conda-env-machine_learning_cookbook-py"
  },
  "language_info": {
   "codemirror_mode": {
    "name": "ipython",
    "version": 3
   },
   "file_extension": ".py",
   "mimetype": "text/x-python",
   "name": "python",
   "nbconvert_exporter": "python",
   "pygments_lexer": "ipython3",
   "version": "3.6.6"
  }
 },
 "nbformat": 4,
 "nbformat_minor": 2
}
