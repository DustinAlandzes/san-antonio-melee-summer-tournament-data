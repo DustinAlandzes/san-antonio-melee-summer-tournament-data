{
 "cells": [
  {
   "cell_type": "code",
   "execution_count": 44,
   "metadata": {},
   "outputs": [],
   "source": [
    "import pandas as pd\n",
    "import xml.etree.cElementTree as et\n",
    "\n",
    "# parse bcn file (just xml)\n",
    "matches_file = \"Summer PR Draft 1.bcn\"\n",
    "parsedXML = et.parse(matches_file)"
   ]
  },
  {
   "cell_type": "code",
   "execution_count": 98,
   "metadata": {},
   "outputs": [
    {
     "name": "stdout",
     "output_type": "stream",
     "text": [
      "Settings: \n",
      " Multiplier: 200 \n",
      " Min Matches: 4 \n",
      " Decay: 3 \n",
      " Decay Value: 2 \n",
      "\n"
     ]
    }
   ],
   "source": [
    "# settings\n",
    "multipler = parsedXML.getroot().find(\"Settings\").get('Multiplier')\n",
    "minmatches = parsedXML.getroot().find(\"Settings\").get('MinMatches')\n",
    "decay = parsedXML.getroot().find(\"Settings\").get('Decay')\n",
    "decayValue = parsedXML.getroot().find(\"Settings\").get('DecayValue')\n",
    "print(\"Settings: \\n Multiplier: {} \\n Min Matches: {} \\n Decay: {} \\n Decay Value: {} \\n\". format(multipler, minmatches, decay, decayValue))"
   ]
  },
  {
   "cell_type": "code",
   "execution_count": 52,
   "metadata": {},
   "outputs": [
    {
     "data": {
      "text/html": [
       "<div>\n",
       "<style scoped>\n",
       "    .dataframe tbody tr th:only-of-type {\n",
       "        vertical-align: middle;\n",
       "    }\n",
       "\n",
       "    .dataframe tbody tr th {\n",
       "        vertical-align: top;\n",
       "    }\n",
       "\n",
       "    .dataframe thead th {\n",
       "        text-align: right;\n",
       "    }\n",
       "</style>\n",
       "<table border=\"1\" class=\"dataframe\">\n",
       "  <thead>\n",
       "    <tr style=\"text-align: right;\">\n",
       "      <th></th>\n",
       "      <th>alts</th>\n",
       "      <th>characters</th>\n",
       "      <th>invisible</th>\n",
       "      <th>name</th>\n",
       "      <th>team</th>\n",
       "    </tr>\n",
       "  </thead>\n",
       "  <tbody>\n",
       "    <tr>\n",
       "      <th>0</th>\n",
       "      <td>FX | Arc</td>\n",
       "      <td></td>\n",
       "      <td>false</td>\n",
       "      <td>Arc</td>\n",
       "      <td></td>\n",
       "    </tr>\n",
       "    <tr>\n",
       "      <th>1</th>\n",
       "      <td>Ace</td>\n",
       "      <td></td>\n",
       "      <td>false</td>\n",
       "      <td>Tuner Ace</td>\n",
       "      <td></td>\n",
       "    </tr>\n",
       "    <tr>\n",
       "      <th>2</th>\n",
       "      <td>CLN | Snowy</td>\n",
       "      <td></td>\n",
       "      <td>false</td>\n",
       "      <td>Snowy</td>\n",
       "      <td></td>\n",
       "    </tr>\n",
       "    <tr>\n",
       "      <th>3</th>\n",
       "      <td>Spurs9 | X-Rey;Spurs9 | No-Sex Rey;Recovery Fi...</td>\n",
       "      <td></td>\n",
       "      <td>false</td>\n",
       "      <td>X-Rey</td>\n",
       "      <td></td>\n",
       "    </tr>\n",
       "    <tr>\n",
       "      <th>4</th>\n",
       "      <td>5</td>\n",
       "      <td></td>\n",
       "      <td>false</td>\n",
       "      <td>5ive</td>\n",
       "      <td></td>\n",
       "    </tr>\n",
       "  </tbody>\n",
       "</table>\n",
       "</div>"
      ],
      "text/plain": [
       "                                                alts characters invisible  \\\n",
       "0                                           FX | Arc                false   \n",
       "1                                                Ace                false   \n",
       "2                                        CLN | Snowy                false   \n",
       "3  Spurs9 | X-Rey;Spurs9 | No-Sex Rey;Recovery Fi...                false   \n",
       "4                                                  5                false   \n",
       "\n",
       "        name team  \n",
       "0        Arc       \n",
       "1  Tuner Ace       \n",
       "2      Snowy       \n",
       "3      X-Rey       \n",
       "4       5ive       "
      ]
     },
     "execution_count": 52,
     "metadata": {},
     "output_type": "execute_result"
    }
   ],
   "source": [
    "# parse players into a list of dicts\n",
    "players = []\n",
    "for player in parsedXML.getroot().find(\"Players\").getchildren():\n",
    "    players.append({\n",
    "        \"name\": player.get(\"Name\"),\n",
    "        \"team\": player.get(\"Team\"),\n",
    "        \"invisible\": player.get(\"Invisible\"),\n",
    "        \"characters\": player.get(\"Characters\"),\n",
    "        \"alts\": player.get(\"Alts\")\n",
    "    })\n",
    "# pass list of dicts into pandas\n",
    "players_df = pd.DataFrame(players)\n",
    "players_df.head()"
   ]
  },
  {
   "cell_type": "code",
   "execution_count": 51,
   "metadata": {},
   "outputs": [
    {
     "data": {
      "text/html": [
       "<div>\n",
       "<style scoped>\n",
       "    .dataframe tbody tr th:only-of-type {\n",
       "        vertical-align: middle;\n",
       "    }\n",
       "\n",
       "    .dataframe tbody tr th {\n",
       "        vertical-align: top;\n",
       "    }\n",
       "\n",
       "    .dataframe thead th {\n",
       "        text-align: right;\n",
       "    }\n",
       "</style>\n",
       "<table border=\"1\" class=\"dataframe\">\n",
       "  <thead>\n",
       "    <tr style=\"text-align: right;\">\n",
       "      <th></th>\n",
       "      <th>description</th>\n",
       "      <th>id</th>\n",
       "      <th>order</th>\n",
       "      <th>player1</th>\n",
       "      <th>player2</th>\n",
       "      <th>timestamp</th>\n",
       "      <th>tournament</th>\n",
       "      <th>winner</th>\n",
       "    </tr>\n",
       "  </thead>\n",
       "  <tbody>\n",
       "    <tr>\n",
       "      <th>0</th>\n",
       "      <td>sanantoniomelee - Muramasa Monday Redemption 66</td>\n",
       "      <td>ab707ee35e224f5187754a431cf9a565</td>\n",
       "      <td>None</td>\n",
       "      <td>Mighty</td>\n",
       "      <td>Riff</td>\n",
       "      <td>6/4/2018 9:46:48 PM</td>\n",
       "      <td>Muramasa Monday Redemption 66</td>\n",
       "      <td>1</td>\n",
       "    </tr>\n",
       "    <tr>\n",
       "      <th>1</th>\n",
       "      <td>sanantoniomelee - Muramasa Monday Redemption 66</td>\n",
       "      <td>77f18550f24a46f6ae68a3cf95789760</td>\n",
       "      <td>None</td>\n",
       "      <td>Blitz</td>\n",
       "      <td>PopStar</td>\n",
       "      <td>6/4/2018 9:46:48 PM</td>\n",
       "      <td>Muramasa Monday Redemption 66</td>\n",
       "      <td>2</td>\n",
       "    </tr>\n",
       "    <tr>\n",
       "      <th>2</th>\n",
       "      <td>sanantoniomelee - Muramasa Monday Redemption 66</td>\n",
       "      <td>79c81769f81f4c4ea9c6c792790242f6</td>\n",
       "      <td>None</td>\n",
       "      <td>Clipman</td>\n",
       "      <td>Velocity</td>\n",
       "      <td>6/4/2018 9:46:48 PM</td>\n",
       "      <td>Muramasa Monday Redemption 66</td>\n",
       "      <td>1</td>\n",
       "    </tr>\n",
       "    <tr>\n",
       "      <th>3</th>\n",
       "      <td>sanantoniomelee - Muramasa Monday Redemption 66</td>\n",
       "      <td>fa024be387254276aacb5201a1f9b179</td>\n",
       "      <td>None</td>\n",
       "      <td>HS</td>\n",
       "      <td>Deca</td>\n",
       "      <td>6/4/2018 9:46:48 PM</td>\n",
       "      <td>Muramasa Monday Redemption 66</td>\n",
       "      <td>1</td>\n",
       "    </tr>\n",
       "    <tr>\n",
       "      <th>4</th>\n",
       "      <td>sanantoniomelee - Muramasa Monday Redemption 66</td>\n",
       "      <td>9c58853a1af647c6b18791bb81fba8e7</td>\n",
       "      <td>None</td>\n",
       "      <td>Bean</td>\n",
       "      <td>Your Dad's Yoshi</td>\n",
       "      <td>6/4/2018 9:46:48 PM</td>\n",
       "      <td>Muramasa Monday Redemption 66</td>\n",
       "      <td>1</td>\n",
       "    </tr>\n",
       "  </tbody>\n",
       "</table>\n",
       "</div>"
      ],
      "text/plain": [
       "                                       description  \\\n",
       "0  sanantoniomelee - Muramasa Monday Redemption 66   \n",
       "1  sanantoniomelee - Muramasa Monday Redemption 66   \n",
       "2  sanantoniomelee - Muramasa Monday Redemption 66   \n",
       "3  sanantoniomelee - Muramasa Monday Redemption 66   \n",
       "4  sanantoniomelee - Muramasa Monday Redemption 66   \n",
       "\n",
       "                                 id order  player1           player2  \\\n",
       "0  ab707ee35e224f5187754a431cf9a565  None   Mighty              Riff   \n",
       "1  77f18550f24a46f6ae68a3cf95789760  None    Blitz           PopStar   \n",
       "2  79c81769f81f4c4ea9c6c792790242f6  None  Clipman          Velocity   \n",
       "3  fa024be387254276aacb5201a1f9b179  None       HS              Deca   \n",
       "4  9c58853a1af647c6b18791bb81fba8e7  None     Bean  Your Dad's Yoshi   \n",
       "\n",
       "             timestamp                     tournament winner  \n",
       "0  6/4/2018 9:46:48 PM  Muramasa Monday Redemption 66      1  \n",
       "1  6/4/2018 9:46:48 PM  Muramasa Monday Redemption 66      2  \n",
       "2  6/4/2018 9:46:48 PM  Muramasa Monday Redemption 66      1  \n",
       "3  6/4/2018 9:46:48 PM  Muramasa Monday Redemption 66      1  \n",
       "4  6/4/2018 9:46:48 PM  Muramasa Monday Redemption 66      1  "
      ]
     },
     "execution_count": 51,
     "metadata": {},
     "output_type": "execute_result"
    }
   ],
   "source": [
    "# parse matches into list of dicts\n",
    "matches = []\n",
    "for match in parsedXML.getroot().find(\"Matches\").getchildren():\n",
    "    matches.append({\n",
    "        \"id\": match.get(\"ID\"),\n",
    "        \"timestamp\": match.get(\"Timestamp\"),\n",
    "        \"order\": match.get(\"order\"),\n",
    "        \"tournament\": match.get(\"Tournament\"),\n",
    "        \"description\": match.get(\"Description\"),\n",
    "        \"player1\": match.get(\"Player1\"),\n",
    "        \"player2\": match.get(\"Player2\"),\n",
    "        \"winner\": match.get(\"Winner\")\n",
    "    })\n",
    "    \n",
    "# pass list of dicts to pandas\n",
    "matches_df = pd.DataFrame(matches)\n",
    "matches_df.head()"
   ]
  },
  {
   "cell_type": "code",
   "execution_count": 99,
   "metadata": {},
   "outputs": [
    {
     "name": "stdout",
     "output_type": "stream",
     "text": [
      "Number of Players: 134\n",
      "Number of Matches: 1818\n",
      "Number of Tournaments: 52\n"
     ]
    }
   ],
   "source": [
    "# number of players, number of matches, number of tournaments\n",
    "num_players = len(players_df)\n",
    "num_matches = len(matches_df)\n",
    "num_tournaments = len(matches_df['tournament'].unique())\n",
    "print(\"Number of Players: {}\".format(num_players))\n",
    "print(\"Number of Matches: {}\".format(num_matches))\n",
    "print(\"Number of Tournaments: {}\".format(num_tournaments))"
   ]
  },
  {
   "cell_type": "code",
   "execution_count": 97,
   "metadata": {},
   "outputs": [
    {
     "data": {
      "text/plain": [
       "1221"
      ]
     },
     "execution_count": 97,
     "metadata": {},
     "output_type": "execute_result"
    }
   ],
   "source": [
    "# number of unique player1 player 2 matches\n",
    "len(matches_df[['player1', 'player2']].drop_duplicates())"
   ]
  },
  {
   "cell_type": "code",
   "execution_count": 106,
   "metadata": {},
   "outputs": [],
   "source": [
    "#matches_df.groupby(['player1', 'player2']).size()"
   ]
  },
  {
   "cell_type": "code",
   "execution_count": 108,
   "metadata": {},
   "outputs": [],
   "source": [
    "# for each player\n",
    "# total games\n",
    "# total wins\n",
    "# total losses\n",
    "# total draws\n",
    "\n",
    "# score (SkillKeeper uses this: https://github.com/moserware/Skills)\n",
    "# python ports/implementations\n",
    "# https://github.com/McLeopold/PythonSkills/\n",
    "# https://github.com/dougz/trueskill\n",
    "# https://github.com/sublee/trueskill\n",
    "\n",
    "# score = mu - (k*sigma)\n",
    "# what is k\n",
    "\n",
    "# decay? - the way this is implemented seems retarded\n",
    "# multiplier?\n",
    "\n",
    "# sort matches by date\n",
    "# for match in matches\n",
    "#   pass winner to trueskill\n",
    "#   update mu and sigma for each player\n",
    "#   update last match date for each player\n",
    "#   update wins, losses, draws, total games for each player"
   ]
  },
  {
   "cell_type": "code",
   "execution_count": null,
   "metadata": {},
   "outputs": [],
   "source": [
    "# graphs"
   ]
  }
 ],
 "metadata": {
  "kernelspec": {
   "display_name": "Python [conda env:machine_learning_cookbook]",
   "language": "python",
   "name": "conda-env-machine_learning_cookbook-py"
  },
  "language_info": {
   "codemirror_mode": {
    "name": "ipython",
    "version": 3
   },
   "file_extension": ".py",
   "mimetype": "text/x-python",
   "name": "python",
   "nbconvert_exporter": "python",
   "pygments_lexer": "ipython3",
   "version": "3.6.6"
  }
 },
 "nbformat": 4,
 "nbformat_minor": 2
}
